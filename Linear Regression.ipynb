{
 "cells": [
  {
   "cell_type": "code",
   "execution_count": 30,
   "metadata": {},
   "outputs": [],
   "source": [
    "from numpy import random\n",
    "random.normal(0,1,100)\n",
    "import numpy as np\n",
    "import pandas as pd\n",
    "import matplotlib.pyplot as plt"
   ]
  },
  {
   "cell_type": "code",
   "execution_count": 31,
   "metadata": {},
   "outputs": [],
   "source": [
    "#declarations:\n",
    "m = 0.6 #gradient\n",
    "c= 0.2 #y-intercept\n",
    "L = 0.0001 #learning rate\n",
    "epoch = 50 #iterations\n",
    "epoch_error_list=[]\n",
    "epoch_count_list=[]"
   ]
  },
  {
   "cell_type": "code",
   "execution_count": 32,
   "metadata": {},
   "outputs": [],
   "source": [
    "noise = np.random.normal(1,15,100)"
   ]
  },
  {
   "cell_type": "code",
   "execution_count": 33,
   "metadata": {},
   "outputs": [],
   "source": [
    "X = np.random.normal(10,10,100)\n",
    "y = m*X + c\n",
    "Y = y+noise\n",
    "N = float(len(X))"
   ]
  },
  {
   "cell_type": "code",
   "execution_count": 34,
   "metadata": {},
   "outputs": [
    {
     "data": {
      "text/plain": [
       "<matplotlib.collections.PathCollection at 0x22a82e70ee0>"
      ]
     },
     "execution_count": 34,
     "metadata": {},
     "output_type": "execute_result"
    },
    {
     "data": {
      "image/png": "[encoded data removed]",
      "text/plain": [
       "<Figure size 432x288 with 1 Axes>"
      ]
     },
     "metadata": {
      "needs_background": "light"
     },
     "output_type": "display_data"
    }
   ],
   "source": [
    "plt.scatter(X,Y)\n",
    "\n"
   ]
  },
  {
   "cell_type": "code",
   "execution_count": 35,
   "metadata": {},
   "outputs": [],
   "source": [
    "#MSE Function formula: (1/n) * Σ(actual – forecast)2\n",
    "def mse(N, Y, Y_hat):\n",
    "    return (1/N) *sum(Y-Y_hat)**2"
   ]
  },
  {
   "cell_type": "code",
   "execution_count": 77,
   "metadata": {},
   "outputs": [
    {
     "ename": "SyntaxError",
     "evalue": "'return' outside function (<ipython-input-77-768c5c0038de>, line 22)",
     "output_type": "error",
     "traceback": [
      "\u001b[1;36m  File \u001b[1;32m\"<ipython-input-77-768c5c0038de>\"\u001b[1;36m, line \u001b[1;32m22\u001b[0m\n\u001b[1;33m    return Y_hat, epoch_count_list, epoch_error_list\u001b[0m\n\u001b[1;37m    ^\u001b[0m\n\u001b[1;31mSyntaxError\u001b[0m\u001b[1;31m:\u001b[0m 'return' outside function\n"
     ]
    }
   ],
   "source": [
    "def gradient_descent_fit(m,c,N,L):\n",
    "    epoch_error_list= [] \n",
    "    epoch_count_list=[]\n",
    "    for i in range(epoch):\n",
    "        Y_hat = m*X+c\n",
    "        #compute and arrest error for each iteration\n",
    "        epoch_count_list= epoch_count_list[:]#tricking the list to get its instance\n",
    "        epoch_count_list.append(i)\n",
    "        epoch_error = mse(N,Y,Y_hat)\n",
    "        print('error', epoch_error)\n",
    "        epoch_error_list = epoch_error_list[:]\n",
    "        epoch_error_list.append(epoch_error)   \n",
    "    #minimizing error function by computing partial derivatives\n",
    "        D_m = (-2/N)*sum(X*(Y-Y_hat))\n",
    "        print('D_m', D_m)\n",
    "        D_c = (-2/N)*sum(Y-Y_hat)\n",
    "    #Applying gradient descent formula to update both m and c\n",
    "        m=m - (L*D_m)\n",
    "        print('New m is ', m)\n",
    "        c=c-(L * D_c)\n",
    "        print ('final m is: ', m, 'and final c is: ', c)\n",
    "return Y_hat, epoch_count_list, epoch_error_list"
   ]
  },
  {
   "cell_type": "code",
   "execution_count": 72,
   "metadata": {},
   "outputs": [
    {
     "ename": "TypeError",
     "evalue": "'NoneType' object is not subscriptable",
     "output_type": "error",
     "traceback": [
      "\u001b[1;31m---------------------------------------------------------------------------\u001b[0m",
      "\u001b[1;31mTypeError\u001b[0m                                 Traceback (most recent call last)",
      "\u001b[1;32m<ipython-input-72-e64c236bf90f>\u001b[0m in \u001b[0;36m<module>\u001b[1;34m\u001b[0m\n\u001b[0;32m      1\u001b[0m \u001b[1;31m#call gradient descent fit function\u001b[0m\u001b[1;33m\u001b[0m\u001b[1;33m\u001b[0m\u001b[1;33m\u001b[0m\u001b[0m\n\u001b[0;32m      2\u001b[0m \u001b[0mreturned_params\u001b[0m \u001b[1;33m=\u001b[0m \u001b[0mgradient_descent_fit\u001b[0m\u001b[1;33m(\u001b[0m\u001b[0mm\u001b[0m\u001b[1;33m,\u001b[0m\u001b[0mc\u001b[0m\u001b[1;33m,\u001b[0m \u001b[0mN\u001b[0m\u001b[1;33m,\u001b[0m \u001b[0mL\u001b[0m\u001b[1;33m)\u001b[0m\u001b[1;33m\u001b[0m\u001b[1;33m\u001b[0m\u001b[0m\n\u001b[1;32m----> 3\u001b[1;33m \u001b[0my_predicted\u001b[0m \u001b[1;33m=\u001b[0m \u001b[0mreturned_params\u001b[0m\u001b[1;33m[\u001b[0m\u001b[1;36m0\u001b[0m\u001b[1;33m]\u001b[0m\u001b[1;33m,\u001b[0m\u001b[1;33m\u001b[0m\u001b[1;33m\u001b[0m\u001b[0m\n\u001b[0m\u001b[0;32m      4\u001b[0m \u001b[0mtotal_epochs\u001b[0m \u001b[1;33m=\u001b[0m \u001b[0mreturned_params\u001b[0m\u001b[1;33m[\u001b[0m\u001b[1;36m1\u001b[0m\u001b[1;33m]\u001b[0m\u001b[1;33m,\u001b[0m\u001b[1;33m\u001b[0m\u001b[1;33m\u001b[0m\u001b[0m\n\u001b[0;32m      5\u001b[0m \u001b[0mall_epoch_errors\u001b[0m \u001b[1;33m=\u001b[0m \u001b[0mreturned_params\u001b[0m\u001b[1;33m[\u001b[0m\u001b[1;36m2\u001b[0m\u001b[1;33m]\u001b[0m\u001b[1;33m\u001b[0m\u001b[1;33m\u001b[0m\u001b[0m\n",
      "\u001b[1;31mTypeError\u001b[0m: 'NoneType' object is not subscriptable"
     ]
    }
   ],
   "source": [
    "#call gradient descent fit function\n",
    "returned_params = gradient_descent_fit(m,c, N, L)\n",
    "y_predicted = returned_params[0],\n",
    "total_epochs = returned_params[1],\n",
    "all_epoch_errors = returned_params[2]"
   ]
  },
  {
   "cell_type": "code",
   "execution_count": 67,
   "metadata": {},
   "outputs": [
    {
     "ename": "SyntaxError",
     "evalue": "EOL while scanning string literal (<ipython-input-67-778ed475794c>, line 5)",
     "output_type": "error",
     "traceback": [
      "\u001b[1;36m  File \u001b[1;32m\"<ipython-input-67-778ed475794c>\"\u001b[1;36m, line \u001b[1;32m5\u001b[0m\n\u001b[1;33m    ax1.set_title(\"Regression Model for Nairobi Office Prices.\u001b[0m\n\u001b[1;37m                                                              ^\u001b[0m\n\u001b[1;31mSyntaxError\u001b[0m\u001b[1;31m:\u001b[0m EOL while scanning string literal\n"
     ]
    }
   ],
   "source": [
    "#Plotfor both line of best fit and error reduction graphs\n",
    "fig, (ax1, ax2)= plt.subplots(2, gridspec_kw={'top':2})\n",
    "ax1.set(xlabel= \"Office Size in Sq ft\")\n",
    "ax2.set(ylabel= \"Office Prices (Rent) in Ksh. (X1000) \")\n",
    "ax1.set_title(\"Regression Model for Nairobi Office Prices.\n",
    "              Graph 1: Line of Best Fit\")\n",
    "            \n",
    "ax1.scatter(X,Y)\n",
    "ax1.plot([min(X), max(Y)], [min(y_predicted)], color='purple')\n",
    "ax2.set_title(\"Graph 2: MSE Monitoring Error Curve\")\n",
    "ax2.set(xlabel=\"Epochs/Iteration\")\n",
    "ax2.set(ylabel=\"Mean Squared Error\")\n",
    "ax2.plot(total_epochs,all_epoch_errors)"
   ]
  },
  {
   "cell_type": "code",
   "execution_count": 68,
   "metadata": {},
   "outputs": [
    {
     "ename": "IndentationError",
     "evalue": "unexpected indent (<ipython-input-68-b02553516733>, line 2)",
     "output_type": "error",
     "traceback": [
      "\u001b[1;36m  File \u001b[1;32m\"<ipython-input-68-b02553516733>\"\u001b[1;36m, line \u001b[1;32m2\u001b[0m\n\u001b[1;33m    epoch_count_list.clear(),\u001b[0m\n\u001b[1;37m    ^\u001b[0m\n\u001b[1;31mIndentationError\u001b[0m\u001b[1;31m:\u001b[0m unexpected indent\n"
     ]
    }
   ],
   "source": [
    "#Destroy the used lists to prevent recarpetting on append\n",
    "        epoch_count_list.clear(),\n",
    "        epoch_error_list.clear()"
   ]
  }
 ],
 "metadata": {
  "kernelspec": {
   "display_name": "Python 3",
   "language": "python",
   "name": "python3"
  },
  "language_info": {
   "codemirror_mode": {
    "name": "ipython",
    "version": 3
   },
   "file_extension": ".py",
   "mimetype": "text/x-python",
   "name": "python",
   "nbconvert_exporter": "python",
   "pygments_lexer": "ipython3",
   "version": "3.8.5"
  }
 },
 "nbformat": 4,
 "nbformat_minor": 4
}
